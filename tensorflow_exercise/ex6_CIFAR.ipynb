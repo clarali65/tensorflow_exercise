{
 "cells": [
  {
   "cell_type": "code",
   "execution_count": 1,
   "metadata": {
    "collapsed": true
   },
   "outputs": [],
   "source": [
    "import urllib.request\n",
    "import os\n",
    "import tarfile\n",
    "import tensorflow as tf"
   ]
  },
  {
   "cell_type": "code",
   "execution_count": 2,
   "metadata": {},
   "outputs": [
    {
     "name": "stdout",
     "output_type": "stream",
     "text": [
      "Data file already exists.\n",
      "Directory already exists.\n"
     ]
    }
   ],
   "source": [
    "url = 'https://www.cs.toronto.edu/~kriz/cifar-10-python.tar.gz'\n",
    "filepath = 'data/cifar-10-python.tar.gz'\n",
    "if not os.path.isfile(filepath):\n",
    "    result=urllib.request.urlretrieve(url,filepath)\n",
    "    print('downloaded:',result)\n",
    "else:\n",
    "    print('Data file already exists.')\n",
    "    \n",
    "if not os.path.exists(\"data/cifar-10-batches-py\"):\n",
    "    tfile=tarfile.open(\"data/cifar-10-python.tar.gz\",'r:gz')\n",
    "    result=tfile.extractall('data/')\n",
    "    print('Extracted to ./data/cifar-10-batches-py/')\n",
    "else:\n",
    "    print('Directory already exists.')"
   ]
  },
  {
   "cell_type": "code",
   "execution_count": 3,
   "metadata": {
    "collapsed": true
   },
   "outputs": [],
   "source": [
    "import os\n",
    "import numpy as np\n",
    "import pickle as p"
   ]
  },
  {
   "cell_type": "code",
   "execution_count": 4,
   "metadata": {
    "collapsed": true
   },
   "outputs": [],
   "source": [
    "def load_CIFAR_batch(filename):\n",
    "    \"\"\"load single batch of cifar\"\"\"\n",
    "    \n",
    "    with open(filename,'rb')as f:\n",
    "        data_dict = p.load(f,encoding='bytes')\n",
    "        images=data_dict[b'data']\n",
    "        labels=data_dict[b'labels']\n",
    "        images = images.reshape(10000,3,32,32)\n",
    "        images = images.transpose(0,2,3,1)\n",
    "        labels=np.array(labels)\n",
    "        return images,labels"
   ]
  },
  {
   "cell_type": "code",
   "execution_count": 5,
   "metadata": {
    "collapsed": true
   },
   "outputs": [],
   "source": [
    "def load_CIFAR_data(data_dir):\n",
    "    images_train=[]\n",
    "    labels_train=[]\n",
    "    for i in range(5):\n",
    "        f=os.path.join(data_dir,'data_batch_%d'%(i+1))\n",
    "        print('loading',f)\n",
    "        image_batch,label_batch=load_CIFAR_batch(f)\n",
    "        images_train.append(image_batch)\n",
    "        labels_train.append(label_batch)\n",
    "        Xtrain=np.concatenate(images_train)\n",
    "        Ytrain=np.concatenate(labels_train)\n",
    "        del image_batch,label_batch\n",
    "        \n",
    "    Xtest,Ytest = load_CIFAR_batch(os.path.join(data_dir,'test_batch'))\n",
    "    print('finished loadding CIFAR-10 data')\n",
    "    \n",
    "    return Xtrain,Ytrain,Xtest,Ytest\n"
   ]
  },
  {
   "cell_type": "code",
   "execution_count": 6,
   "metadata": {
    "scrolled": false
   },
   "outputs": [
    {
     "name": "stdout",
     "output_type": "stream",
     "text": [
      "loading data/cifar-10-batches-py/data_batch_1\n",
      "loading data/cifar-10-batches-py/data_batch_2\n",
      "loading data/cifar-10-batches-py/data_batch_3\n",
      "loading data/cifar-10-batches-py/data_batch_4\n",
      "loading data/cifar-10-batches-py/data_batch_5\n",
      "finished loadding CIFAR-10 data\n"
     ]
    }
   ],
   "source": [
    "data_dir= 'data/cifar-10-batches-py/'\n",
    "Xtrain,Ytrain,Xtest,Ytest=load_CIFAR_data(data_dir)"
   ]
  },
  {
   "cell_type": "code",
   "execution_count": 7,
   "metadata": {},
   "outputs": [
    {
     "name": "stdout",
     "output_type": "stream",
     "text": [
      "training data shape: (50000, 32, 32, 3)\n",
      "training labels shape: (50000,)\n",
      "test data shape: (10000, 32, 32, 3)\n",
      "test labels shape: (10000,)\n"
     ]
    }
   ],
   "source": [
    "print('training data shape:',Xtrain.shape)\n",
    "print('training labels shape:',Ytrain.shape)\n",
    "print('test data shape:',Xtest.shape)\n",
    "print('test labels shape:',Ytest.shape)"
   ]
  },
  {
   "cell_type": "code",
   "execution_count": 8,
   "metadata": {},
   "outputs": [
    {
     "data": {
      "text/plain": [
       "<matplotlib.image.AxesImage at 0x193b4ac3128>"
      ]
     },
     "execution_count": 8,
     "metadata": {},
     "output_type": "execute_result"
    },
    {
     "data": {
      "image/png": "[encoded data removed]",
      "text/plain": [
       "<matplotlib.figure.Figure at 0x193b465bdd8>"
      ]
     },
     "metadata": {},
     "output_type": "display_data"
    }
   ],
   "source": [
    "%matplotlib inline\n",
    "import matplotlib.pyplot as plt\n",
    "\n",
    "plt.imshow(Xtrain[6])"
   ]
  },
  {
   "cell_type": "code",
   "execution_count": 9,
   "metadata": {},
   "outputs": [
    {
     "name": "stdout",
     "output_type": "stream",
     "text": [
      "2\n"
     ]
    }
   ],
   "source": [
    "print(Ytrain[6])"
   ]
  },
  {
   "cell_type": "code",
   "execution_count": 10,
   "metadata": {
    "collapsed": true
   },
   "outputs": [],
   "source": [
    "import matplotlib.pyplot as plt\n",
    "label_dict={0:\"airplane\",1:\"automobile\",2:\"bird\",3:\"cat\",4:\"deer\",\n",
    "            5:\"dog\",6:\"frog\",7:\"horse\",8:\"ship\",9:\"truck\"}\n",
    "\n",
    "def plot_images_labels_prediction(images,labels,prediction,idx,num=10):\n",
    "    fig=plt.gcf()\n",
    "    fig.set_size_inches(12,6)\n",
    "    if num>10:\n",
    "        num=10\n",
    "    for idx in range(0,num):\n",
    "        ax=plt.subplot(2,5,1+idx)\n",
    "        ax.imshow(images[idx],cmap='binary')\n",
    "        \n",
    "        title=str(idx)+','+label_dict[labels[idx]]\n",
    "        if len(prediction)>0:\n",
    "            title+='=>'+label_dict[prediction[idx]]\n",
    "            \n",
    "        ax.set_title(title,fontsize=10)\n",
    "        idx+=1\n",
    "    plt.show()"
   ]
  },
  {
   "cell_type": "code",
   "execution_count": 11,
   "metadata": {},
   "outputs": [
    {
     "data": {
      "image/png": "[encoded data removed]",
      "text/plain": [
       "<matplotlib.figure.Figure at 0x193b4b2eac8>"
      ]
     },
     "metadata": {},
     "output_type": "display_data"
    }
   ],
   "source": [
    "plot_images_labels_prediction(Xtest,Ytest,[],0,10)"
   ]
  },
  {
   "cell_type": "code",
   "execution_count": 12,
   "metadata": {},
   "outputs": [
    {
     "data": {
      "text/plain": [
       "array([59, 62, 63], dtype=uint8)"
      ]
     },
     "execution_count": 12,
     "metadata": {},
     "output_type": "execute_result"
    }
   ],
   "source": [
    "Xtrain[0][0][0]"
   ]
  },
  {
   "cell_type": "code",
   "execution_count": 13,
   "metadata": {},
   "outputs": [],
   "source": [
    "Xtrain_normalize=Xtrain.astype('float32')/255.0\n",
    "Xtest_normalize=Xtest.astype('float32')/255.0"
   ]
  },
  {
   "cell_type": "code",
   "execution_count": 14,
   "metadata": {},
   "outputs": [
    {
     "data": {
      "text/plain": [
       "array([ 0.23137255,  0.24313726,  0.24705882], dtype=float32)"
      ]
     },
     "execution_count": 14,
     "metadata": {},
     "output_type": "execute_result"
    }
   ],
   "source": [
    "Xtrain_normalize[0][0][0]"
   ]
  },
  {
   "cell_type": "code",
   "execution_count": 15,
   "metadata": {},
   "outputs": [
    {
     "data": {
      "text/plain": [
       "array([6, 9, 9, 4, 1, 1, 2, 7, 8, 3])"
      ]
     },
     "execution_count": 15,
     "metadata": {},
     "output_type": "execute_result"
    }
   ],
   "source": [
    "Ytrain[:10]"
   ]
  },
  {
   "cell_type": "code",
   "execution_count": 16,
   "metadata": {},
   "outputs": [
    {
     "name": "stderr",
     "output_type": "stream",
     "text": [
      "C:\\Users\\ausu\\AppData\\Roaming\\Python\\Python36\\site-packages\\scipy\\__init__.py:115: UserWarning: Numpy 1.13.3 or above is required for this version of scipy (detected version 1.13.1)\n",
      "  UserWarning)\n",
      "D:\\Anaconda\\envs\\python36\\lib\\site-packages\\sklearn\\preprocessing\\_encoders.py:415: FutureWarning: The handling of integer data will change in version 0.22. Currently, the categories are determined based on the range [0, max(values)], while in the future they will be determined based on the unique values.\n",
      "If you want the future behaviour and silence this warning, you can specify \"categories='auto'\".\n",
      "In case you used a LabelEncoder before this OneHotEncoder to convert the categories to integers, then you can now use the OneHotEncoder directly.\n",
      "  warnings.warn(msg, FutureWarning)\n"
     ]
    }
   ],
   "source": [
    "from sklearn.preprocessing import OneHotEncoder\n",
    "encoder=OneHotEncoder(sparse=False)\n",
    "yy=[[0],[1],[2],[3],[4],[5],[6],[7],[8],[9]]\n",
    "encoder.fit(yy)\n",
    "Ytrain_reshape=Ytrain.reshape(-1,1)\n",
    "Ytrain_onehot=encoder.transform(Ytrain_reshape)\n",
    "Ytest_reshape=Ytest.reshape(-1,1)\n",
    "Ytest_onehot=encoder.transform(Ytest_reshape)"
   ]
  },
  {
   "cell_type": "code",
   "execution_count": 17,
   "metadata": {},
   "outputs": [
    {
     "data": {
      "text/plain": [
       "(50000, 10)"
      ]
     },
     "execution_count": 17,
     "metadata": {},
     "output_type": "execute_result"
    }
   ],
   "source": [
    "Ytrain_onehot.shape"
   ]
  },
  {
   "cell_type": "code",
   "execution_count": 18,
   "metadata": {},
   "outputs": [
    {
     "data": {
      "text/plain": [
       "array([6, 9, 9, 4, 1])"
      ]
     },
     "execution_count": 18,
     "metadata": {},
     "output_type": "execute_result"
    }
   ],
   "source": [
    "Ytrain[:5]"
   ]
  },
  {
   "cell_type": "code",
   "execution_count": 19,
   "metadata": {},
   "outputs": [
    {
     "data": {
      "text/plain": [
       "array([[ 0.,  0.,  0.,  0.,  0.,  0.,  1.,  0.,  0.,  0.],\n",
       "       [ 0.,  0.,  0.,  0.,  0.,  0.,  0.,  0.,  0.,  1.],\n",
       "       [ 0.,  0.,  0.,  0.,  0.,  0.,  0.,  0.,  0.,  1.],\n",
       "       [ 0.,  0.,  0.,  0.,  1.,  0.,  0.,  0.,  0.,  0.],\n",
       "       [ 0.,  1.,  0.,  0.,  0.,  0.,  0.,  0.,  0.,  0.]])"
      ]
     },
     "execution_count": 19,
     "metadata": {},
     "output_type": "execute_result"
    }
   ],
   "source": [
    "Ytrain_onehot[:5]"
   ]
  },
  {
   "cell_type": "code",
   "execution_count": 20,
   "metadata": {
    "collapsed": true
   },
   "outputs": [],
   "source": [
    "#定义权值\n",
    "#在训练时，这个变量不断更新\n",
    "def weight(shape):\n",
    "    return tf.Variable(tf.truncated_normal(shape,stddev=0.1),name='W')\n",
    "\n",
    "#偏置项\n",
    "#初始化为0.1\n",
    "def bias(shape):\n",
    "    return tf.Variable(tf.constant(0.1,shape=shape),name='b')\n",
    "\n",
    "#定义卷积操作\n",
    "#步长为1，padding为‘SAME’\n",
    "def conv2d(x,W):\n",
    "    return tf.nn.conv2d(x,W,strides=[1,1,1,1],padding='SAME')\n",
    "\n",
    "#定义池化操作\n",
    "#步长为2，即原尺寸的长和宽各除以2\n",
    "def max_pool_2x2(x):\n",
    "    return tf.nn.max_pool(x,ksize=[1,2,2,1],strides=[1,2,2,1],padding='SAME')\n"
   ]
  },
  {
   "cell_type": "code",
   "execution_count": 24,
   "metadata": {
    "collapsed": true
   },
   "outputs": [],
   "source": [
    "#输入层\n",
    "with tf.name_scope('input_layer'):\n",
    "    x = tf.placeholder('float',shape=[None,32,32,3],name=\"x\")"
   ]
  },
  {
   "cell_type": "code",
   "execution_count": 25,
   "metadata": {},
   "outputs": [],
   "source": [
    "#第一个卷积层\n",
    "#输入通道：3，输出通道：32，卷积后图像尺寸不变，依然是32x32\n",
    "with tf.name_scope('conv_1'):\n",
    "    W1 = weight([3,3,3,32])#[k_width,k_height,input_chn,output_chn]\n",
    "    b1 = bias([32])#与output_chn一致\n",
    "    conv_1=conv2d(x,W1)+b1\n",
    "    conv_1=tf.nn.relu(conv_1)"
   ]
  },
  {
   "cell_type": "code",
   "execution_count": 27,
   "metadata": {},
   "outputs": [],
   "source": [
    "#第一个池化层\n",
    "#将32x32图像缩小为16x16，池化不改变通道数量，依然是32个\n",
    "with tf.name_scope('pool_1'):\n",
    "    pool_1=max_pool_2x2(conv_1)"
   ]
  },
  {
   "cell_type": "code",
   "execution_count": 29,
   "metadata": {},
   "outputs": [],
   "source": [
    "#第二个卷积层\n",
    "#输入通道：32，输出通道：64，卷积后图像尺寸不变，依然是16x16\n",
    "with tf.name_scope('conv_2'):\n",
    "    W2 = weight([3,3,32,64])\n",
    "    b2 = bias([64])\n",
    "    conv_2=conv2d(pool_1,W2)+b2\n",
    "    conv_2=tf.nn.relu(conv_2)    "
   ]
  },
  {
   "cell_type": "code",
   "execution_count": 30,
   "metadata": {
    "collapsed": true
   },
   "outputs": [],
   "source": [
    "#第二个池化层\n",
    "#将32x32图像缩小为8x8，池化不改变通道数量，依然是64个\n",
    "with tf.name_scope('pool_2'):\n",
    "    pool_2=max_pool_2x2(conv_2)"
   ]
  },
  {
   "cell_type": "code",
   "execution_count": 31,
   "metadata": {
    "collapsed": true
   },
   "outputs": [],
   "source": [
    "#全连接层\n",
    "#将第二个池化层的64个8x8的图像转换为一维的向量，长度是64*8*8=4096\n",
    "#128个神经元\n",
    "with tf.name_scope('fc'):\n",
    "    W3 = weight([4096,128])#有128个神经元\n",
    "    b3 = bias([128])#与output_chn一致\n",
    "    flat=tf.reshape(pool_2,[-1,4096])\n",
    "    h=tf.nn.relu(tf.matmul(flat,W3+b3))\n",
    "    h_dropout = tf.nn.dropout(h,keep_prob=0.8)"
   ]
  },
  {
   "cell_type": "code",
   "execution_count": 33,
   "metadata": {},
   "outputs": [],
   "source": [
    "#输出层共有10个神经元，对应到0-9这10个类别\n",
    "with tf.name_scope('output_layer'):\n",
    "    W4 = weight([128,10])\n",
    "    b4 = bias([10])\n",
    "    pred = tf.nn.softmax(tf.matmul(h_dropout,W4)+b4)"
   ]
  },
  {
   "cell_type": "code",
   "execution_count": 50,
   "metadata": {
    "collapsed": true
   },
   "outputs": [],
   "source": [
    "with tf.name_scope('optimizer'):\n",
    "    y = tf.placeholder(\"float\",shape=[None,10],name=\"label\")\n",
    "    loss_function = tf.reduce_mean(tf.nn.softmax_cross_entropy_with_logits(logits=pred,labels=y))\n",
    "    optimizer=tf.train.AdamOptimizer(learning_rate=0.001).minimize(loss_function)\n",
    "    "
   ]
  },
  {
   "cell_type": "code",
   "execution_count": 51,
   "metadata": {
    "collapsed": true
   },
   "outputs": [],
   "source": [
    "with tf.name_scope(\"evaluation\"):\n",
    "    correct_prediction = tf.equal(tf.argmax(pred,1),tf.argmax(y,1))\n",
    "    accuracy = tf.reduce_mean(tf.cast(correct_prediction,\"float\"))"
   ]
  },
  {
   "cell_type": "code",
   "execution_count": 52,
   "metadata": {},
   "outputs": [],
   "source": [
    "import os\n",
    "from time import time\n",
    "\n",
    "train_epoch = 35\n",
    "batch_size=50\n",
    "total_batch=int(len(Xtrain)/batch_size)\n",
    "epoch_list=[];accuracy_list=[];loss_list=[];\n",
    "\n",
    "epoch=tf.Variable(0,name='epoch',trainable=False)\n",
    "startTime=time()\n",
    "\n",
    "sess=tf.Session()\n",
    "init=tf.global_variables_initializer()\n",
    "sess.run(init)"
   ]
  },
  {
   "cell_type": "code",
   "execution_count": 53,
   "metadata": {},
   "outputs": [
    {
     "name": "stdout",
     "output_type": "stream",
     "text": [
      "INFO:tensorflow:Restoring parameters from CIFAR10_log/CIFAR10_cnn_model.cpkt-25\n"
     ]
    },
    {
     "ename": "NotFoundError",
     "evalue": "Key conv_1_2/W/Adam_2 not found in checkpoint\n\t [[Node: save_3/RestoreV2_7 = RestoreV2[dtypes=[DT_FLOAT], _device=\"/job:localhost/replica:0/task:0/cpu:0\"](_arg_save_3/Const_0_0, save_3/RestoreV2_7/tensor_names, save_3/RestoreV2_7/shape_and_slices)]]\n\nCaused by op 'save_3/RestoreV2_7', defined at:\n  File \"D:\\Anaconda\\envs\\python36\\lib\\runpy.py\", line 193, in _run_module_as_main\n    \"__main__\", mod_spec)\n  File \"D:\\Anaconda\\envs\\python36\\lib\\runpy.py\", line 85, in _run_code\n    exec(code, run_globals)\n  File \"D:\\Anaconda\\envs\\python36\\lib\\site-packages\\ipykernel_launcher.py\", line 16, in <module>\n    app.launch_new_instance()\n  File \"D:\\Anaconda\\envs\\python36\\lib\\site-packages\\traitlets\\config\\application.py\", line 658, in launch_instance\n    app.start()\n  File \"D:\\Anaconda\\envs\\python36\\lib\\site-packages\\ipykernel\\kernelapp.py\", line 477, in start\n    ioloop.IOLoop.instance().start()\n  File \"D:\\Anaconda\\envs\\python36\\lib\\site-packages\\zmq\\eventloop\\ioloop.py\", line 177, in start\n    super(ZMQIOLoop, self).start()\n  File \"D:\\Anaconda\\envs\\python36\\lib\\site-packages\\tornado\\ioloop.py\", line 888, in start\n    handler_func(fd_obj, events)\n  File \"D:\\Anaconda\\envs\\python36\\lib\\site-packages\\tornado\\stack_context.py\", line 277, in null_wrapper\n    return fn(*args, **kwargs)\n  File \"D:\\Anaconda\\envs\\python36\\lib\\site-packages\\zmq\\eventloop\\zmqstream.py\", line 440, in _handle_events\n    self._handle_recv()\n  File \"D:\\Anaconda\\envs\\python36\\lib\\site-packages\\zmq\\eventloop\\zmqstream.py\", line 472, in _handle_recv\n    self._run_callback(callback, msg)\n  File \"D:\\Anaconda\\envs\\python36\\lib\\site-packages\\zmq\\eventloop\\zmqstream.py\", line 414, in _run_callback\n    callback(*args, **kwargs)\n  File \"D:\\Anaconda\\envs\\python36\\lib\\site-packages\\tornado\\stack_context.py\", line 277, in null_wrapper\n    return fn(*args, **kwargs)\n  File \"D:\\Anaconda\\envs\\python36\\lib\\site-packages\\ipykernel\\kernelbase.py\", line 283, in dispatcher\n    return self.dispatch_shell(stream, msg)\n  File \"D:\\Anaconda\\envs\\python36\\lib\\site-packages\\ipykernel\\kernelbase.py\", line 235, in dispatch_shell\n    handler(stream, idents, msg)\n  File \"D:\\Anaconda\\envs\\python36\\lib\\site-packages\\ipykernel\\kernelbase.py\", line 399, in execute_request\n    user_expressions, allow_stdin)\n  File \"D:\\Anaconda\\envs\\python36\\lib\\site-packages\\ipykernel\\ipkernel.py\", line 196, in do_execute\n    res = shell.run_cell(code, store_history=store_history, silent=silent)\n  File \"D:\\Anaconda\\envs\\python36\\lib\\site-packages\\ipykernel\\zmqshell.py\", line 533, in run_cell\n    return super(ZMQInteractiveShell, self).run_cell(*args, **kwargs)\n  File \"D:\\Anaconda\\envs\\python36\\lib\\site-packages\\IPython\\core\\interactiveshell.py\", line 2698, in run_cell\n    interactivity=interactivity, compiler=compiler, result=result)\n  File \"D:\\Anaconda\\envs\\python36\\lib\\site-packages\\IPython\\core\\interactiveshell.py\", line 2802, in run_ast_nodes\n    if self.run_code(code, result):\n  File \"D:\\Anaconda\\envs\\python36\\lib\\site-packages\\IPython\\core\\interactiveshell.py\", line 2862, in run_code\n    exec(code_obj, self.user_global_ns, self.user_ns)\n  File \"<ipython-input-53-adcc45a13d6d>\", line 7, in <module>\n    saver=tf.train.Saver(max_to_keep=1)\n  File \"D:\\Anaconda\\envs\\python36\\lib\\site-packages\\tensorflow\\python\\training\\saver.py\", line 1139, in __init__\n    self.build()\n  File \"D:\\Anaconda\\envs\\python36\\lib\\site-packages\\tensorflow\\python\\training\\saver.py\", line 1170, in build\n    restore_sequentially=self._restore_sequentially)\n  File \"D:\\Anaconda\\envs\\python36\\lib\\site-packages\\tensorflow\\python\\training\\saver.py\", line 691, in build\n    restore_sequentially, reshape)\n  File \"D:\\Anaconda\\envs\\python36\\lib\\site-packages\\tensorflow\\python\\training\\saver.py\", line 407, in _AddRestoreOps\n    tensors = self.restore_op(filename_tensor, saveable, preferred_shard)\n  File \"D:\\Anaconda\\envs\\python36\\lib\\site-packages\\tensorflow\\python\\training\\saver.py\", line 247, in restore_op\n    [spec.tensor.dtype])[0])\n  File \"D:\\Anaconda\\envs\\python36\\lib\\site-packages\\tensorflow\\python\\ops\\gen_io_ops.py\", line 640, in restore_v2\n    dtypes=dtypes, name=name)\n  File \"D:\\Anaconda\\envs\\python36\\lib\\site-packages\\tensorflow\\python\\framework\\op_def_library.py\", line 767, in apply_op\n    op_def=op_def)\n  File \"D:\\Anaconda\\envs\\python36\\lib\\site-packages\\tensorflow\\python\\framework\\ops.py\", line 2506, in create_op\n    original_op=self._default_original_op, op_def=op_def)\n  File \"D:\\Anaconda\\envs\\python36\\lib\\site-packages\\tensorflow\\python\\framework\\ops.py\", line 1269, in __init__\n    self._traceback = _extract_stack()\n\nNotFoundError (see above for traceback): Key conv_1_2/W/Adam_2 not found in checkpoint\n\t [[Node: save_3/RestoreV2_7 = RestoreV2[dtypes=[DT_FLOAT], _device=\"/job:localhost/replica:0/task:0/cpu:0\"](_arg_save_3/Const_0_0, save_3/RestoreV2_7/tensor_names, save_3/RestoreV2_7/shape_and_slices)]]\n",
     "output_type": "error",
     "traceback": [
      "\u001b[1;31m---------------------------------------------------------------------------\u001b[0m",
      "\u001b[1;31mNotFoundError\u001b[0m                             Traceback (most recent call last)",
      "\u001b[1;32mD:\\Anaconda\\envs\\python36\\lib\\site-packages\\tensorflow\\python\\client\\session.py\u001b[0m in \u001b[0;36m_do_call\u001b[1;34m(self, fn, *args)\u001b[0m\n\u001b[0;32m   1138\u001b[0m     \u001b[1;32mtry\u001b[0m\u001b[1;33m:\u001b[0m\u001b[1;33m\u001b[0m\u001b[0m\n\u001b[1;32m-> 1139\u001b[1;33m       \u001b[1;32mreturn\u001b[0m \u001b[0mfn\u001b[0m\u001b[1;33m(\u001b[0m\u001b[1;33m*\u001b[0m\u001b[0margs\u001b[0m\u001b[1;33m)\u001b[0m\u001b[1;33m\u001b[0m\u001b[0m\n\u001b[0m\u001b[0;32m   1140\u001b[0m     \u001b[1;32mexcept\u001b[0m \u001b[0merrors\u001b[0m\u001b[1;33m.\u001b[0m\u001b[0mOpError\u001b[0m \u001b[1;32mas\u001b[0m \u001b[0me\u001b[0m\u001b[1;33m:\u001b[0m\u001b[1;33m\u001b[0m\u001b[0m\n",
      "\u001b[1;32mD:\\Anaconda\\envs\\python36\\lib\\site-packages\\tensorflow\\python\\client\\session.py\u001b[0m in \u001b[0;36m_run_fn\u001b[1;34m(session, feed_dict, fetch_list, target_list, options, run_metadata)\u001b[0m\n\u001b[0;32m   1120\u001b[0m                                  \u001b[0mfeed_dict\u001b[0m\u001b[1;33m,\u001b[0m \u001b[0mfetch_list\u001b[0m\u001b[1;33m,\u001b[0m \u001b[0mtarget_list\u001b[0m\u001b[1;33m,\u001b[0m\u001b[1;33m\u001b[0m\u001b[0m\n\u001b[1;32m-> 1121\u001b[1;33m                                  status, run_metadata)\n\u001b[0m\u001b[0;32m   1122\u001b[0m \u001b[1;33m\u001b[0m\u001b[0m\n",
      "\u001b[1;32mD:\\Anaconda\\envs\\python36\\lib\\contextlib.py\u001b[0m in \u001b[0;36m__exit__\u001b[1;34m(self, type, value, traceback)\u001b[0m\n\u001b[0;32m     87\u001b[0m             \u001b[1;32mtry\u001b[0m\u001b[1;33m:\u001b[0m\u001b[1;33m\u001b[0m\u001b[0m\n\u001b[1;32m---> 88\u001b[1;33m                 \u001b[0mnext\u001b[0m\u001b[1;33m(\u001b[0m\u001b[0mself\u001b[0m\u001b[1;33m.\u001b[0m\u001b[0mgen\u001b[0m\u001b[1;33m)\u001b[0m\u001b[1;33m\u001b[0m\u001b[0m\n\u001b[0m\u001b[0;32m     89\u001b[0m             \u001b[1;32mexcept\u001b[0m \u001b[0mStopIteration\u001b[0m\u001b[1;33m:\u001b[0m\u001b[1;33m\u001b[0m\u001b[0m\n",
      "\u001b[1;32mD:\\Anaconda\\envs\\python36\\lib\\site-packages\\tensorflow\\python\\framework\\errors_impl.py\u001b[0m in \u001b[0;36mraise_exception_on_not_ok_status\u001b[1;34m()\u001b[0m\n\u001b[0;32m    465\u001b[0m           \u001b[0mcompat\u001b[0m\u001b[1;33m.\u001b[0m\u001b[0mas_text\u001b[0m\u001b[1;33m(\u001b[0m\u001b[0mpywrap_tensorflow\u001b[0m\u001b[1;33m.\u001b[0m\u001b[0mTF_Message\u001b[0m\u001b[1;33m(\u001b[0m\u001b[0mstatus\u001b[0m\u001b[1;33m)\u001b[0m\u001b[1;33m)\u001b[0m\u001b[1;33m,\u001b[0m\u001b[1;33m\u001b[0m\u001b[0m\n\u001b[1;32m--> 466\u001b[1;33m           pywrap_tensorflow.TF_GetCode(status))\n\u001b[0m\u001b[0;32m    467\u001b[0m   \u001b[1;32mfinally\u001b[0m\u001b[1;33m:\u001b[0m\u001b[1;33m\u001b[0m\u001b[0m\n",
      "\u001b[1;31mNotFoundError\u001b[0m: Key conv_1_2/W/Adam_2 not found in checkpoint\n\t [[Node: save_3/RestoreV2_7 = RestoreV2[dtypes=[DT_FLOAT], _device=\"/job:localhost/replica:0/task:0/cpu:0\"](_arg_save_3/Const_0_0, save_3/RestoreV2_7/tensor_names, save_3/RestoreV2_7/shape_and_slices)]]",
      "\nDuring handling of the above exception, another exception occurred:\n",
      "\u001b[1;31mNotFoundError\u001b[0m                             Traceback (most recent call last)",
      "\u001b[1;32m<ipython-input-53-adcc45a13d6d>\u001b[0m in \u001b[0;36m<module>\u001b[1;34m()\u001b[0m\n\u001b[0;32m     10\u001b[0m \u001b[0mckpt\u001b[0m\u001b[1;33m=\u001b[0m\u001b[0mtf\u001b[0m\u001b[1;33m.\u001b[0m\u001b[0mtrain\u001b[0m\u001b[1;33m.\u001b[0m\u001b[0mlatest_checkpoint\u001b[0m\u001b[1;33m(\u001b[0m\u001b[0mckpt_dir\u001b[0m\u001b[1;33m)\u001b[0m\u001b[1;33m\u001b[0m\u001b[0m\n\u001b[0;32m     11\u001b[0m \u001b[1;32mif\u001b[0m \u001b[0mckpt\u001b[0m\u001b[1;33m!=\u001b[0m\u001b[1;32mNone\u001b[0m\u001b[1;33m:\u001b[0m\u001b[1;33m\u001b[0m\u001b[0m\n\u001b[1;32m---> 12\u001b[1;33m     \u001b[0msaver\u001b[0m\u001b[1;33m.\u001b[0m\u001b[0mrestore\u001b[0m\u001b[1;33m(\u001b[0m\u001b[0msess\u001b[0m\u001b[1;33m,\u001b[0m\u001b[0mckpt\u001b[0m\u001b[1;33m)\u001b[0m\u001b[1;31m#加载所有的参数\u001b[0m\u001b[1;33m\u001b[0m\u001b[0m\n\u001b[0m\u001b[0;32m     13\u001b[0m     \u001b[1;31m#从这里开始就可以直接使用模型进行预测，或者接着训练了\u001b[0m\u001b[1;33m\u001b[0m\u001b[1;33m\u001b[0m\u001b[0m\n\u001b[0;32m     14\u001b[0m \u001b[1;32melse\u001b[0m\u001b[1;33m:\u001b[0m\u001b[1;33m\u001b[0m\u001b[0m\n",
      "\u001b[1;32mD:\\Anaconda\\envs\\python36\\lib\\site-packages\\tensorflow\\python\\training\\saver.py\u001b[0m in \u001b[0;36mrestore\u001b[1;34m(self, sess, save_path)\u001b[0m\n\u001b[0;32m   1546\u001b[0m     \u001b[0mlogging\u001b[0m\u001b[1;33m.\u001b[0m\u001b[0minfo\u001b[0m\u001b[1;33m(\u001b[0m\u001b[1;34m\"Restoring parameters from %s\"\u001b[0m\u001b[1;33m,\u001b[0m \u001b[0msave_path\u001b[0m\u001b[1;33m)\u001b[0m\u001b[1;33m\u001b[0m\u001b[0m\n\u001b[0;32m   1547\u001b[0m     sess.run(self.saver_def.restore_op_name,\n\u001b[1;32m-> 1548\u001b[1;33m              {self.saver_def.filename_tensor_name: save_path})\n\u001b[0m\u001b[0;32m   1549\u001b[0m \u001b[1;33m\u001b[0m\u001b[0m\n\u001b[0;32m   1550\u001b[0m   \u001b[1;33m@\u001b[0m\u001b[0mstaticmethod\u001b[0m\u001b[1;33m\u001b[0m\u001b[0m\n",
      "\u001b[1;32mD:\\Anaconda\\envs\\python36\\lib\\site-packages\\tensorflow\\python\\client\\session.py\u001b[0m in \u001b[0;36mrun\u001b[1;34m(self, fetches, feed_dict, options, run_metadata)\u001b[0m\n\u001b[0;32m    787\u001b[0m     \u001b[1;32mtry\u001b[0m\u001b[1;33m:\u001b[0m\u001b[1;33m\u001b[0m\u001b[0m\n\u001b[0;32m    788\u001b[0m       result = self._run(None, fetches, feed_dict, options_ptr,\n\u001b[1;32m--> 789\u001b[1;33m                          run_metadata_ptr)\n\u001b[0m\u001b[0;32m    790\u001b[0m       \u001b[1;32mif\u001b[0m \u001b[0mrun_metadata\u001b[0m\u001b[1;33m:\u001b[0m\u001b[1;33m\u001b[0m\u001b[0m\n\u001b[0;32m    791\u001b[0m         \u001b[0mproto_data\u001b[0m \u001b[1;33m=\u001b[0m \u001b[0mtf_session\u001b[0m\u001b[1;33m.\u001b[0m\u001b[0mTF_GetBuffer\u001b[0m\u001b[1;33m(\u001b[0m\u001b[0mrun_metadata_ptr\u001b[0m\u001b[1;33m)\u001b[0m\u001b[1;33m\u001b[0m\u001b[0m\n",
      "\u001b[1;32mD:\\Anaconda\\envs\\python36\\lib\\site-packages\\tensorflow\\python\\client\\session.py\u001b[0m in \u001b[0;36m_run\u001b[1;34m(self, handle, fetches, feed_dict, options, run_metadata)\u001b[0m\n\u001b[0;32m    995\u001b[0m     \u001b[1;32mif\u001b[0m \u001b[0mfinal_fetches\u001b[0m \u001b[1;32mor\u001b[0m \u001b[0mfinal_targets\u001b[0m\u001b[1;33m:\u001b[0m\u001b[1;33m\u001b[0m\u001b[0m\n\u001b[0;32m    996\u001b[0m       results = self._do_run(handle, final_targets, final_fetches,\n\u001b[1;32m--> 997\u001b[1;33m                              feed_dict_string, options, run_metadata)\n\u001b[0m\u001b[0;32m    998\u001b[0m     \u001b[1;32melse\u001b[0m\u001b[1;33m:\u001b[0m\u001b[1;33m\u001b[0m\u001b[0m\n\u001b[0;32m    999\u001b[0m       \u001b[0mresults\u001b[0m \u001b[1;33m=\u001b[0m \u001b[1;33m[\u001b[0m\u001b[1;33m]\u001b[0m\u001b[1;33m\u001b[0m\u001b[0m\n",
      "\u001b[1;32mD:\\Anaconda\\envs\\python36\\lib\\site-packages\\tensorflow\\python\\client\\session.py\u001b[0m in \u001b[0;36m_do_run\u001b[1;34m(self, handle, target_list, fetch_list, feed_dict, options, run_metadata)\u001b[0m\n\u001b[0;32m   1130\u001b[0m     \u001b[1;32mif\u001b[0m \u001b[0mhandle\u001b[0m \u001b[1;32mis\u001b[0m \u001b[1;32mNone\u001b[0m\u001b[1;33m:\u001b[0m\u001b[1;33m\u001b[0m\u001b[0m\n\u001b[0;32m   1131\u001b[0m       return self._do_call(_run_fn, self._session, feed_dict, fetch_list,\n\u001b[1;32m-> 1132\u001b[1;33m                            target_list, options, run_metadata)\n\u001b[0m\u001b[0;32m   1133\u001b[0m     \u001b[1;32melse\u001b[0m\u001b[1;33m:\u001b[0m\u001b[1;33m\u001b[0m\u001b[0m\n\u001b[0;32m   1134\u001b[0m       return self._do_call(_prun_fn, self._session, handle, feed_dict,\n",
      "\u001b[1;32mD:\\Anaconda\\envs\\python36\\lib\\site-packages\\tensorflow\\python\\client\\session.py\u001b[0m in \u001b[0;36m_do_call\u001b[1;34m(self, fn, *args)\u001b[0m\n\u001b[0;32m   1150\u001b[0m         \u001b[1;32mexcept\u001b[0m \u001b[0mKeyError\u001b[0m\u001b[1;33m:\u001b[0m\u001b[1;33m\u001b[0m\u001b[0m\n\u001b[0;32m   1151\u001b[0m           \u001b[1;32mpass\u001b[0m\u001b[1;33m\u001b[0m\u001b[0m\n\u001b[1;32m-> 1152\u001b[1;33m       \u001b[1;32mraise\u001b[0m \u001b[0mtype\u001b[0m\u001b[1;33m(\u001b[0m\u001b[0me\u001b[0m\u001b[1;33m)\u001b[0m\u001b[1;33m(\u001b[0m\u001b[0mnode_def\u001b[0m\u001b[1;33m,\u001b[0m \u001b[0mop\u001b[0m\u001b[1;33m,\u001b[0m \u001b[0mmessage\u001b[0m\u001b[1;33m)\u001b[0m\u001b[1;33m\u001b[0m\u001b[0m\n\u001b[0m\u001b[0;32m   1153\u001b[0m \u001b[1;33m\u001b[0m\u001b[0m\n\u001b[0;32m   1154\u001b[0m   \u001b[1;32mdef\u001b[0m \u001b[0m_extend_graph\u001b[0m\u001b[1;33m(\u001b[0m\u001b[0mself\u001b[0m\u001b[1;33m)\u001b[0m\u001b[1;33m:\u001b[0m\u001b[1;33m\u001b[0m\u001b[0m\n",
      "\u001b[1;31mNotFoundError\u001b[0m: Key conv_1_2/W/Adam_2 not found in checkpoint\n\t [[Node: save_3/RestoreV2_7 = RestoreV2[dtypes=[DT_FLOAT], _device=\"/job:localhost/replica:0/task:0/cpu:0\"](_arg_save_3/Const_0_0, save_3/RestoreV2_7/tensor_names, save_3/RestoreV2_7/shape_and_slices)]]\n\nCaused by op 'save_3/RestoreV2_7', defined at:\n  File \"D:\\Anaconda\\envs\\python36\\lib\\runpy.py\", line 193, in _run_module_as_main\n    \"__main__\", mod_spec)\n  File \"D:\\Anaconda\\envs\\python36\\lib\\runpy.py\", line 85, in _run_code\n    exec(code, run_globals)\n  File \"D:\\Anaconda\\envs\\python36\\lib\\site-packages\\ipykernel_launcher.py\", line 16, in <module>\n    app.launch_new_instance()\n  File \"D:\\Anaconda\\envs\\python36\\lib\\site-packages\\traitlets\\config\\application.py\", line 658, in launch_instance\n    app.start()\n  File \"D:\\Anaconda\\envs\\python36\\lib\\site-packages\\ipykernel\\kernelapp.py\", line 477, in start\n    ioloop.IOLoop.instance().start()\n  File \"D:\\Anaconda\\envs\\python36\\lib\\site-packages\\zmq\\eventloop\\ioloop.py\", line 177, in start\n    super(ZMQIOLoop, self).start()\n  File \"D:\\Anaconda\\envs\\python36\\lib\\site-packages\\tornado\\ioloop.py\", line 888, in start\n    handler_func(fd_obj, events)\n  File \"D:\\Anaconda\\envs\\python36\\lib\\site-packages\\tornado\\stack_context.py\", line 277, in null_wrapper\n    return fn(*args, **kwargs)\n  File \"D:\\Anaconda\\envs\\python36\\lib\\site-packages\\zmq\\eventloop\\zmqstream.py\", line 440, in _handle_events\n    self._handle_recv()\n  File \"D:\\Anaconda\\envs\\python36\\lib\\site-packages\\zmq\\eventloop\\zmqstream.py\", line 472, in _handle_recv\n    self._run_callback(callback, msg)\n  File \"D:\\Anaconda\\envs\\python36\\lib\\site-packages\\zmq\\eventloop\\zmqstream.py\", line 414, in _run_callback\n    callback(*args, **kwargs)\n  File \"D:\\Anaconda\\envs\\python36\\lib\\site-packages\\tornado\\stack_context.py\", line 277, in null_wrapper\n    return fn(*args, **kwargs)\n  File \"D:\\Anaconda\\envs\\python36\\lib\\site-packages\\ipykernel\\kernelbase.py\", line 283, in dispatcher\n    return self.dispatch_shell(stream, msg)\n  File \"D:\\Anaconda\\envs\\python36\\lib\\site-packages\\ipykernel\\kernelbase.py\", line 235, in dispatch_shell\n    handler(stream, idents, msg)\n  File \"D:\\Anaconda\\envs\\python36\\lib\\site-packages\\ipykernel\\kernelbase.py\", line 399, in execute_request\n    user_expressions, allow_stdin)\n  File \"D:\\Anaconda\\envs\\python36\\lib\\site-packages\\ipykernel\\ipkernel.py\", line 196, in do_execute\n    res = shell.run_cell(code, store_history=store_history, silent=silent)\n  File \"D:\\Anaconda\\envs\\python36\\lib\\site-packages\\ipykernel\\zmqshell.py\", line 533, in run_cell\n    return super(ZMQInteractiveShell, self).run_cell(*args, **kwargs)\n  File \"D:\\Anaconda\\envs\\python36\\lib\\site-packages\\IPython\\core\\interactiveshell.py\", line 2698, in run_cell\n    interactivity=interactivity, compiler=compiler, result=result)\n  File \"D:\\Anaconda\\envs\\python36\\lib\\site-packages\\IPython\\core\\interactiveshell.py\", line 2802, in run_ast_nodes\n    if self.run_code(code, result):\n  File \"D:\\Anaconda\\envs\\python36\\lib\\site-packages\\IPython\\core\\interactiveshell.py\", line 2862, in run_code\n    exec(code_obj, self.user_global_ns, self.user_ns)\n  File \"<ipython-input-53-adcc45a13d6d>\", line 7, in <module>\n    saver=tf.train.Saver(max_to_keep=1)\n  File \"D:\\Anaconda\\envs\\python36\\lib\\site-packages\\tensorflow\\python\\training\\saver.py\", line 1139, in __init__\n    self.build()\n  File \"D:\\Anaconda\\envs\\python36\\lib\\site-packages\\tensorflow\\python\\training\\saver.py\", line 1170, in build\n    restore_sequentially=self._restore_sequentially)\n  File \"D:\\Anaconda\\envs\\python36\\lib\\site-packages\\tensorflow\\python\\training\\saver.py\", line 691, in build\n    restore_sequentially, reshape)\n  File \"D:\\Anaconda\\envs\\python36\\lib\\site-packages\\tensorflow\\python\\training\\saver.py\", line 407, in _AddRestoreOps\n    tensors = self.restore_op(filename_tensor, saveable, preferred_shard)\n  File \"D:\\Anaconda\\envs\\python36\\lib\\site-packages\\tensorflow\\python\\training\\saver.py\", line 247, in restore_op\n    [spec.tensor.dtype])[0])\n  File \"D:\\Anaconda\\envs\\python36\\lib\\site-packages\\tensorflow\\python\\ops\\gen_io_ops.py\", line 640, in restore_v2\n    dtypes=dtypes, name=name)\n  File \"D:\\Anaconda\\envs\\python36\\lib\\site-packages\\tensorflow\\python\\framework\\op_def_library.py\", line 767, in apply_op\n    op_def=op_def)\n  File \"D:\\Anaconda\\envs\\python36\\lib\\site-packages\\tensorflow\\python\\framework\\ops.py\", line 2506, in create_op\n    original_op=self._default_original_op, op_def=op_def)\n  File \"D:\\Anaconda\\envs\\python36\\lib\\site-packages\\tensorflow\\python\\framework\\ops.py\", line 1269, in __init__\n    self._traceback = _extract_stack()\n\nNotFoundError (see above for traceback): Key conv_1_2/W/Adam_2 not found in checkpoint\n\t [[Node: save_3/RestoreV2_7 = RestoreV2[dtypes=[DT_FLOAT], _device=\"/job:localhost/replica:0/task:0/cpu:0\"](_arg_save_3/Const_0_0, save_3/RestoreV2_7/tensor_names, save_3/RestoreV2_7/shape_and_slices)]]\n"
     ]
    }
   ],
   "source": [
    "#设置检查点存储目录\n",
    "ckpt_dir='CIFAR10_log/'\n",
    "if not os.path.exists(ckpt_dir):\n",
    "    os.makedirs(ckpt_dir)\n",
    "    \n",
    "#生成saver\n",
    "saver=tf.train.Saver(max_to_keep=1)\n",
    "\n",
    "#如果有检查点文件，读取最新的检查点文件，恢复各种变量值\n",
    "ckpt=tf.train.latest_checkpoint(ckpt_dir)\n",
    "if ckpt!=None:\n",
    "    saver.restore(sess,ckpt)#加载所有的参数\n",
    "    #从这里开始就可以直接使用模型进行预测，或者接着训练了\n",
    "else:\n",
    "    print(\"Training from scratch.\")\n",
    "\n",
    "#获取续训参数\n",
    "start=sess.run(epoch)\n",
    "print(\"Training starts from {} epoch.\".format(start+1))"
   ]
  },
  {
   "cell_type": "code",
   "execution_count": 54,
   "metadata": {
    "collapsed": true
   },
   "outputs": [],
   "source": [
    "def get_train_batch(number,batch_size):\n",
    "    return Xtrain_normalize[number*batch_size:(number+1)*batch_size],Ytrain_onehot[number*batch_size:(number+1)*batch_size]"
   ]
  },
  {
   "cell_type": "code",
   "execution_count": 55,
   "metadata": {
    "scrolled": true
   },
   "outputs": [
    {
     "name": "stdout",
     "output_type": "stream",
     "text": [
      "Step0 finished.\n",
      "Step100 finished.\n",
      "Step200 finished.\n",
      "Step300 finished.\n",
      "Step400 finished.\n",
      "Step500 finished.\n",
      "Step600 finished.\n",
      "Step700 finished.\n",
      "Step800 finished.\n",
      "Step900 finished.\n",
      "Train epoch: 01 Loss= 1.985720 Accuracy= 0.44\n",
      "Step0 finished.\n",
      "Step100 finished.\n",
      "Step200 finished.\n",
      "Step300 finished.\n",
      "Step400 finished.\n",
      "Step500 finished.\n",
      "Step600 finished.\n",
      "Step700 finished.\n",
      "Step800 finished.\n",
      "Step900 finished.\n",
      "Train epoch: 03 Loss= 1.975178 Accuracy= 0.44\n",
      "Step0 finished.\n",
      "Step100 finished.\n",
      "Step200 finished.\n",
      "Step300 finished.\n",
      "Step400 finished.\n",
      "Step500 finished.\n",
      "Step600 finished.\n",
      "Step700 finished.\n",
      "Step800 finished.\n",
      "Step900 finished.\n",
      "Train epoch: 04 Loss= 1.981017 Accuracy= 0.46\n",
      "Step0 finished.\n",
      "Step100 finished.\n",
      "Step200 finished.\n",
      "Step300 finished.\n",
      "Step400 finished.\n",
      "Step500 finished.\n",
      "Step600 finished.\n",
      "Step700 finished.\n",
      "Step800 finished.\n",
      "Step900 finished.\n",
      "Train epoch: 05 Loss= 1.932829 Accuracy= 0.52\n",
      "Step0 finished.\n",
      "Step100 finished.\n",
      "Step200 finished.\n",
      "Step300 finished.\n",
      "Step400 finished.\n",
      "Step500 finished.\n",
      "Step600 finished.\n",
      "Step700 finished.\n",
      "Step800 finished.\n",
      "Step900 finished.\n",
      "Train epoch: 06 Loss= 1.967669 Accuracy= 0.48\n",
      "Step0 finished.\n",
      "Step100 finished.\n",
      "Step200 finished.\n",
      "Step300 finished.\n",
      "Step400 finished.\n",
      "Step500 finished.\n",
      "Step600 finished.\n",
      "Step700 finished.\n",
      "Step800 finished.\n",
      "Step900 finished.\n",
      "Train epoch: 07 Loss= 1.996436 Accuracy= 0.44\n",
      "Step0 finished.\n",
      "Step100 finished.\n",
      "Step200 finished.\n",
      "Step300 finished.\n",
      "Step400 finished.\n",
      "Step500 finished.\n",
      "Step600 finished.\n",
      "Step700 finished.\n",
      "Step800 finished.\n",
      "Step900 finished.\n",
      "Train epoch: 08 Loss= 1.930297 Accuracy= 0.5\n",
      "Step0 finished.\n",
      "Step100 finished.\n",
      "Step200 finished.\n",
      "Step300 finished.\n",
      "Step400 finished.\n",
      "Step500 finished.\n",
      "Step600 finished.\n",
      "Step700 finished.\n",
      "Step800 finished.\n",
      "Step900 finished.\n",
      "Train epoch: 09 Loss= 1.928101 Accuracy= 0.52\n",
      "Step0 finished.\n",
      "Step100 finished.\n",
      "Step200 finished.\n",
      "Step300 finished.\n",
      "Step400 finished.\n",
      "Step500 finished.\n",
      "Step600 finished.\n",
      "Step700 finished.\n",
      "Step800 finished.\n",
      "Step900 finished.\n",
      "Train epoch: 10 Loss= 1.872863 Accuracy= 0.62\n",
      "Step0 finished.\n",
      "Step100 finished.\n",
      "Step200 finished.\n",
      "Step300 finished.\n",
      "Step400 finished.\n",
      "Step500 finished.\n",
      "Step600 finished.\n",
      "Step700 finished.\n",
      "Step800 finished.\n",
      "Step900 finished.\n",
      "Train epoch: 11 Loss= 1.892825 Accuracy= 0.58\n",
      "Step0 finished.\n",
      "Step100 finished.\n",
      "Step200 finished.\n",
      "Step300 finished.\n",
      "Step400 finished.\n",
      "Step500 finished.\n",
      "Step600 finished.\n",
      "Step700 finished.\n",
      "Step800 finished.\n",
      "Step900 finished.\n",
      "Train epoch: 12 Loss= 1.898521 Accuracy= 0.54\n",
      "Step0 finished.\n",
      "Step100 finished.\n",
      "Step200 finished.\n",
      "Step300 finished.\n",
      "Step400 finished.\n",
      "Step500 finished.\n",
      "Step600 finished.\n",
      "Step700 finished.\n",
      "Step800 finished.\n",
      "Step900 finished.\n",
      "Train epoch: 13 Loss= 1.833480 Accuracy= 0.62\n",
      "Step0 finished.\n",
      "Step100 finished.\n",
      "Step200 finished.\n",
      "Step300 finished.\n",
      "Step400 finished.\n",
      "Step500 finished.\n",
      "Step600 finished.\n",
      "Step700 finished.\n",
      "Step800 finished.\n",
      "Step900 finished.\n",
      "Train epoch: 14 Loss= 1.881535 Accuracy= 0.56\n",
      "Step0 finished.\n",
      "Step100 finished.\n",
      "Step200 finished.\n",
      "Step300 finished.\n",
      "Step400 finished.\n",
      "Step500 finished.\n",
      "Step600 finished.\n",
      "Step700 finished.\n",
      "Step800 finished.\n",
      "Step900 finished.\n",
      "Train epoch: 15 Loss= 1.874938 Accuracy= 0.58\n",
      "Step0 finished.\n",
      "Step100 finished.\n",
      "Step200 finished.\n",
      "Step300 finished.\n",
      "Step400 finished.\n",
      "Step500 finished.\n",
      "Step600 finished.\n",
      "Step700 finished.\n",
      "Step800 finished.\n",
      "Step900 finished.\n",
      "Train epoch: 16 Loss= 1.858469 Accuracy= 0.6\n",
      "Step0 finished.\n",
      "Step100 finished.\n",
      "Step200 finished.\n",
      "Step300 finished.\n",
      "Step400 finished.\n",
      "Step500 finished.\n",
      "Step600 finished.\n",
      "Step700 finished.\n",
      "Step800 finished.\n",
      "Step900 finished.\n",
      "Train epoch: 17 Loss= 1.874978 Accuracy= 0.58\n",
      "Step0 finished.\n",
      "Step100 finished.\n",
      "Step200 finished.\n",
      "Step300 finished.\n",
      "Step400 finished.\n",
      "Step500 finished.\n",
      "Step600 finished.\n",
      "Step700 finished.\n",
      "Step800 finished.\n",
      "Step900 finished.\n",
      "Train epoch: 18 Loss= 1.883336 Accuracy= 0.56\n",
      "Step0 finished.\n",
      "Step100 finished.\n",
      "Step200 finished.\n",
      "Step300 finished.\n",
      "Step400 finished.\n",
      "Step500 finished.\n",
      "Step600 finished.\n",
      "Step700 finished.\n",
      "Step800 finished.\n",
      "Step900 finished.\n",
      "Train epoch: 19 Loss= 1.806535 Accuracy= 0.64\n",
      "Step0 finished.\n",
      "Step100 finished.\n",
      "Step200 finished.\n",
      "Step300 finished.\n",
      "Step400 finished.\n",
      "Step500 finished.\n",
      "Step600 finished.\n",
      "Step700 finished.\n",
      "Step800 finished.\n",
      "Step900 finished.\n",
      "Train epoch: 20 Loss= 1.812281 Accuracy= 0.64\n",
      "Step0 finished.\n",
      "Step100 finished.\n",
      "Step200 finished.\n",
      "Step300 finished.\n",
      "Step400 finished.\n",
      "Step500 finished.\n",
      "Step600 finished.\n",
      "Step700 finished.\n",
      "Step800 finished.\n",
      "Step900 finished.\n",
      "Train epoch: 21 Loss= 1.733645 Accuracy= 0.72\n",
      "Step0 finished.\n",
      "Step100 finished.\n",
      "Step200 finished.\n",
      "Step300 finished.\n",
      "Step400 finished.\n",
      "Step500 finished.\n",
      "Step600 finished.\n",
      "Step700 finished.\n",
      "Step800 finished.\n",
      "Step900 finished.\n",
      "Train epoch: 22 Loss= 1.750060 Accuracy= 0.72\n",
      "Step0 finished.\n",
      "Step100 finished.\n",
      "Step200 finished.\n",
      "Step300 finished.\n",
      "Step400 finished.\n",
      "Step500 finished.\n",
      "Step600 finished.\n",
      "Step700 finished.\n",
      "Step800 finished.\n",
      "Step900 finished.\n",
      "Train epoch: 23 Loss= 1.809229 Accuracy= 0.66\n",
      "Step0 finished.\n",
      "Step100 finished.\n",
      "Step200 finished.\n",
      "Step300 finished.\n",
      "Step400 finished.\n",
      "Step500 finished.\n",
      "Step600 finished.\n",
      "Step700 finished.\n",
      "Step800 finished.\n",
      "Step900 finished.\n",
      "Train epoch: 24 Loss= 1.724127 Accuracy= 0.74\n",
      "Step0 finished.\n",
      "Step100 finished.\n",
      "Step200 finished.\n",
      "Step300 finished.\n",
      "Step400 finished.\n",
      "Step500 finished.\n",
      "Step600 finished.\n",
      "Step700 finished.\n",
      "Step800 finished.\n",
      "Step900 finished.\n",
      "Train epoch: 25 Loss= 1.778027 Accuracy= 0.68\n",
      "Step0 finished.\n",
      "Step100 finished.\n",
      "Step200 finished.\n",
      "Step300 finished.\n",
      "Step400 finished.\n",
      "Step500 finished.\n",
      "Step600 finished.\n",
      "Step700 finished.\n",
      "Step800 finished.\n",
      "Step900 finished.\n",
      "Train epoch: 26 Loss= 1.799160 Accuracy= 0.66\n",
      "Step0 finished.\n",
      "Step100 finished.\n",
      "Step200 finished.\n",
      "Step300 finished.\n",
      "Step400 finished.\n",
      "Step500 finished.\n",
      "Step600 finished.\n",
      "Step700 finished.\n",
      "Step800 finished.\n",
      "Step900 finished.\n",
      "Train epoch: 27 Loss= 1.718195 Accuracy= 0.74\n",
      "Step0 finished.\n",
      "Step100 finished.\n",
      "Step200 finished.\n",
      "Step300 finished.\n",
      "Step400 finished.\n",
      "Step500 finished.\n",
      "Step600 finished.\n",
      "Step700 finished.\n",
      "Step800 finished.\n",
      "Step900 finished.\n",
      "Train epoch: 28 Loss= 1.727635 Accuracy= 0.74\n",
      "Step0 finished.\n",
      "Step100 finished.\n",
      "Step200 finished.\n",
      "Step300 finished.\n",
      "Step400 finished.\n",
      "Step500 finished.\n",
      "Step600 finished.\n",
      "Step700 finished.\n",
      "Step800 finished.\n",
      "Step900 finished.\n",
      "Train epoch: 29 Loss= 1.728103 Accuracy= 0.74\n",
      "Step0 finished.\n",
      "Step100 finished.\n",
      "Step200 finished.\n",
      "Step300 finished.\n",
      "Step400 finished.\n",
      "Step500 finished.\n",
      "Step600 finished.\n",
      "Step700 finished.\n",
      "Step800 finished.\n",
      "Step900 finished.\n",
      "Train epoch: 30 Loss= 1.814407 Accuracy= 0.64\n",
      "Step0 finished.\n",
      "Step100 finished.\n",
      "Step200 finished.\n",
      "Step300 finished.\n",
      "Step400 finished.\n",
      "Step500 finished.\n",
      "Step600 finished.\n",
      "Step700 finished.\n",
      "Step800 finished.\n",
      "Step900 finished.\n",
      "Train epoch: 31 Loss= 1.714193 Accuracy= 0.74\n",
      "Step0 finished.\n",
      "Step100 finished.\n",
      "Step200 finished.\n",
      "Step300 finished.\n",
      "Step400 finished.\n",
      "Step500 finished.\n",
      "Step600 finished.\n",
      "Step700 finished.\n",
      "Step800 finished.\n",
      "Step900 finished.\n",
      "Train epoch: 32 Loss= 1.733701 Accuracy= 0.7\n",
      "Step0 finished.\n",
      "Step100 finished.\n",
      "Step200 finished.\n",
      "Step300 finished.\n",
      "Step400 finished.\n",
      "Step500 finished.\n",
      "Step600 finished.\n",
      "Step700 finished.\n",
      "Step800 finished.\n",
      "Step900 finished.\n",
      "Train epoch: 33 Loss= 1.725825 Accuracy= 0.72\n",
      "Step0 finished.\n",
      "Step100 finished.\n",
      "Step200 finished.\n",
      "Step300 finished.\n",
      "Step400 finished.\n",
      "Step500 finished.\n",
      "Step600 finished.\n",
      "Step700 finished.\n",
      "Step800 finished.\n",
      "Step900 finished.\n",
      "Train epoch: 34 Loss= 1.747816 Accuracy= 0.72\n",
      "Step0 finished.\n",
      "Step100 finished.\n",
      "Step200 finished.\n",
      "Step300 finished.\n",
      "Step400 finished.\n",
      "Step500 finished.\n",
      "Step600 finished.\n",
      "Step700 finished.\n",
      "Step800 finished.\n",
      "Step900 finished.\n",
      "Train epoch: 35 Loss= 1.660163 Accuracy= 0.82\n",
      "Train finished takes: 7362.351518154144\n"
     ]
    }
   ],
   "source": [
    "for ep in range(start,train_epoch):\n",
    "    for i in range(total_batch):\n",
    "        batch_x,batch_y=get_train_batch(i,batch_size)\n",
    "        sess.run(optimizer,feed_dict={x:batch_x,y:batch_y})\n",
    "        if i % 100 == 0:\n",
    "            print(\"Step{}\".format(i),\"finished.\")\n",
    "            \n",
    "    loss,acc=sess.run([loss_function,accuracy],feed_dict={x:batch_x,y:batch_y})\n",
    "    epoch_list.append(ep+1)\n",
    "    loss_list.append(loss)\n",
    "    accuracy_list.append(acc)\n",
    "    \n",
    "    print(\"Train epoch:\",'%02d' % (sess.run(epoch)+1),\"Loss=\",\"{:.6f}\".format(loss),\"Accuracy=\",acc)\n",
    "    \n",
    "    #保存检查点\n",
    "    saver.save(sess,ckpt_dir+\"CIFAR10_cnn_model.cpkt\",global_step=ep+1)\n",
    "    sess.run(epoch.assign(ep+1))\n",
    "\n",
    "duration=time()-startTime\n",
    "print(\"Train finished takes:\",duration)"
   ]
  },
  {
   "cell_type": "code",
   "execution_count": 56,
   "metadata": {},
   "outputs": [
    {
     "data": {
      "text/plain": [
       "<matplotlib.legend.Legend at 0x193c8e9ce80>"
      ]
     },
     "execution_count": 56,
     "metadata": {},
     "output_type": "execute_result"
    },
    {
     "data": {
      "image/png": "[encoded data removed]",
      "text/plain": [
       "<matplotlib.figure.Figure at 0x193b3fc8128>"
      ]
     },
     "metadata": {},
     "output_type": "display_data"
    }
   ],
   "source": [
    "%matplotlib inline\n",
    "\n",
    "fig=plt.gcf()\n",
    "fig.set_size_inches(4,2)\n",
    "plt.plot(epoch_list,loss_list,label='loss')\n",
    "plt.ylabel('loss')\n",
    "plt.xlabel('epoch')\n",
    "plt.legend(['loss'],loc='upper right')"
   ]
  },
  {
   "cell_type": "code",
   "execution_count": 57,
   "metadata": {},
   "outputs": [
    {
     "data": {
      "image/png": "[encoded data removed]",
      "text/plain": [
       "<matplotlib.figure.Figure at 0x193c8d7f3c8>"
      ]
     },
     "metadata": {},
     "output_type": "display_data"
    }
   ],
   "source": [
    "plt.plot(epoch_list,accuracy_list,label='accuracy')\n",
    "fig=plt.gcf()\n",
    "fig.set_size_inches(4,2)\n",
    "plt.ylim(0.1,1)\n",
    "plt.ylabel('accuracy')\n",
    "plt.xlabel('epoch')\n",
    "plt.legend()\n",
    "plt.show()"
   ]
  },
  {
   "cell_type": "code",
   "execution_count": 58,
   "metadata": {},
   "outputs": [
    {
     "name": "stdout",
     "output_type": "stream",
     "text": [
      "Test accuracy:0.666100\n"
     ]
    }
   ],
   "source": [
    "test_total_batch = int(len(Xtest_normalize)/batch_size)\n",
    "test_acc_sum=0.0\n",
    "for i in range(test_total_batch):\n",
    "    test_image_batch=Xtest_normalize[i*batch_size:(i+1)*batch_size]\n",
    "    test_label_batch=Ytest_onehot[i*batch_size:(i+1)*batch_size]\n",
    "    test_batch_acc=sess.run(accuracy,feed_dict={x:test_image_batch,y:test_label_batch})\n",
    "    test_acc_sum+=test_batch_acc\n",
    "test_acc=float(test_acc_sum/test_total_batch)\n",
    "print(\"Test accuracy:{:.6f}\".format(test_acc))\n"
   ]
  },
  {
   "cell_type": "code",
   "execution_count": 59,
   "metadata": {
    "collapsed": true
   },
   "outputs": [],
   "source": [
    "test_pred=sess.run(pred,feed_dict={x:Xtest_normalize[:10]})\n",
    "prediction_result=sess.run(tf.argmax(test_pred,1))"
   ]
  },
  {
   "cell_type": "code",
   "execution_count": 60,
   "metadata": {},
   "outputs": [
    {
     "data": {
      "image/png": "[encoded data removed]",
      "text/plain": [
       "<matplotlib.figure.Figure at 0x193c86eda20>"
      ]
     },
     "metadata": {},
     "output_type": "display_data"
    }
   ],
   "source": [
    "plot_images_labels_prediction(Xtest,Ytest,prediction_result,0,10)"
   ]
  }
 ],
 "metadata": {
  "kernelspec": {
   "display_name": "Python 3",
   "language": "python",
   "name": "python3"
  },
  "language_info": {
   "codemirror_mode": {
    "name": "ipython",
    "version": 3
   },
   "file_extension": ".py",
   "mimetype": "text/x-python",
   "name": "python",
   "nbconvert_exporter": "python",
   "pygments_lexer": "ipython3",
   "version": "3.6.2"
  }
 },
 "nbformat": 4,
 "nbformat_minor": 2
}
