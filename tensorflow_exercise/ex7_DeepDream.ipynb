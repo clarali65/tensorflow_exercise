{
 "cells": [
  {
   "cell_type": "code",
   "execution_count": 1,
   "metadata": {
    "collapsed": true
   },
   "outputs": [],
   "source": [
    "import matplotlib.pyplot as plt\n",
    "import tensorflow as tf\n",
    "import numpy as np"
   ]
  },
  {
   "cell_type": "code",
   "execution_count": 2,
   "metadata": {
    "collapsed": true
   },
   "outputs": [],
   "source": [
    "from __future__ import print_function\n",
    "import os\n",
    "from io import BytesIO\n",
    "from functools import partial\n",
    "import PIL.Image\n",
    "import scipy.misc"
   ]
  },
  {
   "cell_type": "code",
   "execution_count": 3,
   "metadata": {
    "collapsed": true
   },
   "outputs": [],
   "source": [
    "graph = tf.Graph()\n",
    "model_fn = 'tensorflow_inception_graph.pb'\n",
    "sess = tf.InteractiveSession(graph=graph)"
   ]
  },
  {
   "cell_type": "code",
   "execution_count": 4,
   "metadata": {
    "collapsed": true
   },
   "outputs": [],
   "source": [
    "with tf.gfile.FastGFile(model_fn,'rb') as f:\n",
    "    graph_def = tf.GraphDef()\n",
    "    graph_def.ParseFromString(f.read())"
   ]
  },
  {
   "cell_type": "code",
   "execution_count": 5,
   "metadata": {
    "collapsed": true
   },
   "outputs": [],
   "source": [
    "t_input=tf.placeholder(np.float32,name='input')\n",
    "imagenet_mean=117.0\n",
    "t_preprocessed=tf.expand_dims(t_input - imagenet_mean,0)\n",
    "tf.import_graph_def(graph_def,{'input':t_preprocessed})"
   ]
  },
  {
   "cell_type": "code",
   "execution_count": 6,
   "metadata": {},
   "outputs": [
    {
     "name": "stdout",
     "output_type": "stream",
     "text": [
      "Number of layers 59\n"
     ]
    }
   ],
   "source": [
    "layers = [op.name for op in graph.get_operations()if op.type == 'Conv2D']\n",
    "#输出卷积层层数\n",
    "\n",
    "print('Number of layers',len(layers))"
   ]
  },
  {
   "cell_type": "code",
   "execution_count": null,
   "metadata": {
    "scrolled": true
   },
   "outputs": [],
   "source": [
    "#定义卷积层，并取出对应的tensor\n",
    "name = 'mixed4c'\n",
    "#name = 'mixed4d_3x3_bottleneck_pre_relu'\n",
    "channel = 118\n",
    "layer_output = graph.get_tensor_by_name(\"import/%s:0\" % name)\n",
    "#layer_output[:,:,:,channel]即可表示该卷积层的第140个通道\n",
    "print(layer_output)"
   ]
  },
  {
   "cell_type": "code",
   "execution_count": null,
   "metadata": {
    "collapsed": true
   },
   "outputs": [],
   "source": [
    "def savearray(img_array,img_name):\n",
    "    scipy.misc.imsave(img_name,img_array)\n",
    "    print('img saved:%s' % img_name)\n",
    "    \n",
    "def resize_ratio(img,ratio):\n",
    "    min = img.min()\n",
    "    max = img.max()\n",
    "    img = (img-min)/(max-min)*255\n",
    "    img = np.float32(scipy.misc.imresize(img,ratio))\n",
    "    img = img/255*(max-min)+min\n",
    "    return img\n",
    "    \n",
    "def resize(img,hw):\n",
    "    min = img.min()\n",
    "    max = img.max()\n",
    "    img = (img-min)/(max-min)*255\n",
    "    img = np.float32(scipy.misc.imresize(img,hw))\n",
    "    img = img/255*(max-min)+min\n",
    "    return img\n",
    "\n",
    "def render_naive(t_obj, img0, iter_n=20, step=1.0):\n",
    "    '''\n",
    "    渲染函数\n",
    "    :param t_obj:卷积层某个通道的值\n",
    "    :param img0:初始化图像\n",
    "    :param iter_n:迭代的步数\n",
    "    :param step:\n",
    "    :return:\n",
    "    '''\n",
    "    # t_score 是优化目标，他是t_obj的平均值\n",
    "    # t_score 越大，就说明神经网络卷积层对应的通道的平均激活越大\n",
    "    t_score = tf.reduce_mean(t_obj)\n",
    "    # 计算t_score对t_input的梯度\n",
    "    # 代码的目标是通过调整输入图像 t_input ，来让 t_score 尽可能的大\n",
    "    # 因此使用体服下降法\n",
    "    t_grad = tf.gradients(t_score, t_input)[0]\n",
    "\n",
    "    # 创建新图\n",
    "    img = img0.copy()\n",
    "    # 迭代 iter_n 每一步都将梯度应用到图像上\n",
    "    for i in range(iter_n):\n",
    "        # 在sess中计算梯度，以及当前的score\n",
    "        g, score = sess.run([t_grad, t_score], {t_input: img})\n",
    "        # 对img应用梯度，step可以看作学习率\n",
    "        g /= g.std() + 1e-8\n",
    "        img += g * step\n",
    "        print('iter:%d' %(i + 1),'score(mean)=%f' % (score))\n",
    "\n",
    "    savearray(img, 'mountain_deepdream.jpg')"
   ]
  },
  {
   "cell_type": "code",
   "execution_count": null,
   "metadata": {
    "scrolled": false
   },
   "outputs": [],
   "source": [
    "#img_test = PIL.Image.open(\"mountain.jpg\") \n",
    "#定义图像噪声\n",
    "#img_noise = np.random.uniform(size=(224,224,3)) + 100.0\n",
    "\n",
    "#调用render_naive函数渲染\n",
    "\n",
    "#render_naive(layer_output,img_test,iter_n = 100)\n",
    "render_naive(layer_output,img_noise,iter_n = 20)"
   ]
  },
  {
   "cell_type": "code",
   "execution_count": null,
   "metadata": {},
   "outputs": [],
   "source": [
    "#保存并显示图片\n",
    "\n",
    "im = PIL.Image.open('navie_deepdream.jpg')\n",
    "im.show()\n",
    "#im.save(\"mountain_naive.jpg\")\n",
    "#im = PIL.Image.open('naive_deepdream.jpg')\n",
    "#im.show()\n",
    "im.save('shallow_single_chn.jpg')"
   ]
  },
  {
   "cell_type": "code",
   "execution_count": 7,
   "metadata": {
    "collapsed": true
   },
   "outputs": [],
   "source": [
    "def calc_grad_tiled(img,t_grad,tile_size=512):\n",
    "    sz=tile_size\n",
    "    h,w=img.shape[:2]\n",
    "    sx,sy=np.random.randint(sz,size=2)\n",
    "    img_shift=np.roll(np.roll(img,sx,1),sy,0)\n",
    "    grad=np.zeros_like(img)\n",
    "    for y in range(0,max(h-sz//2,sz),sz):\n",
    "        for x in range(0,max(w-sz//2,sz),sz):\n",
    "            sub = img_shift[y:y+sz,x:x+sz]\n",
    "            g=sess.run(t_grad,{t_input:sub})\n",
    "            grad[y:y+sz,x:x+sz]=g\n",
    "    return np.roll(np.roll(grad,-sz,1),-sy,0)"
   ]
  },
  {
   "cell_type": "code",
   "execution_count": 12,
   "metadata": {},
   "outputs": [],
   "source": [
    "def savearray(img_array,img_name):\n",
    "    scipy.misc.imsave(img_name,img_array)\n",
    "    print('img saved:%s' % img_name)\n",
    "    \n",
    "def resize_ratio(img,ratio):\n",
    "    min = img.min()\n",
    "    max = img.max()\n",
    "    img = (img-min)/(max-min)*255\n",
    "    img = np.float32(scipy.misc.imresize(img,ratio))\n",
    "    img = img/255*(max-min)+min\n",
    "    return img\n",
    "    \n",
    "def resize(img,hw):\n",
    "    min = img.min()\n",
    "    max = img.max()\n",
    "    img = (img-min)/(max-min)*255\n",
    "    img = np.float32(scipy.misc.imresize(img,hw))\n",
    "    img = img/255*(max-min)+min\n",
    "    return img\n",
    "\n",
    "def render_deepdream(t_obj,img0,iter_n=10,step=1.5,octave_n=4,octave_scale=1.4):\n",
    "    t_score = tf.reduce_mean(t_obj)\n",
    "    t_grad = tf.gradients(t_score,t_input)[0]\n",
    "    img=img0.copy()\n",
    "    \n",
    "    octaves=[]\n",
    "    for i in range(octave_n-1):\n",
    "        hw=img.shape[:2]\n",
    "        lo = resize(img,np.int32(np.float32(hw)/octave_scale))\n",
    "        hi = img - resize(lo,hw)\n",
    "        img = lo\n",
    "        octaves.append(hi)\n",
    "    for octave in range(octave_n):\n",
    "        if octave>0:\n",
    "            hi = octaves[-octave]\n",
    "            img=resize(img,hi.shape[:2])+hi\n",
    "        for i in range(iter_n):\n",
    "            g = calc_grad_tiled(img,t_grad)\n",
    "            img += g*(step/(np.abs(g).mean()+1e-7))\n",
    "    img = img.clip(0,255)\n",
    "    savearray(img,'mountain_deepdream.jpg')\n",
    "    im = PIL.Image.open('mountain_deepdream.jpg').show()"
   ]
  },
  {
   "cell_type": "code",
   "execution_count": null,
   "metadata": {},
   "outputs": [
    {
     "name": "stderr",
     "output_type": "stream",
     "text": [
      "D:\\Anaconda\\envs\\python36\\lib\\site-packages\\ipykernel_launcher.py:17: DeprecationWarning: `imresize` is deprecated!\n",
      "`imresize` is deprecated in SciPy 1.0.0, and will be removed in 1.2.0.\n",
      "Use ``skimage.transform.resize`` instead.\n"
     ]
    }
   ],
   "source": [
    "name = 'mixed4c'\n",
    "layer_output = graph.get_tensor_by_name(\"import/%s:0\" % name)\n",
    "\n",
    "img0=PIL.Image.open('mountain.jpg')\n",
    "img0=np.float32(img0)\n",
    "render_deepdream(tf.square(layer_output),img0)"
   ]
  },
  {
   "cell_type": "code",
   "execution_count": null,
   "metadata": {
    "collapsed": true
   },
   "outputs": [],
   "source": []
  }
 ],
 "metadata": {
  "kernelspec": {
   "display_name": "Python 3",
   "language": "python",
   "name": "python3"
  },
  "language_info": {
   "codemirror_mode": {
    "name": "ipython",
    "version": 3
   },
   "file_extension": ".py",
   "mimetype": "text/x-python",
   "name": "python",
   "nbconvert_exporter": "python",
   "pygments_lexer": "ipython3",
   "version": "3.6.2"
  }
 },
 "nbformat": 4,
 "nbformat_minor": 2
}
