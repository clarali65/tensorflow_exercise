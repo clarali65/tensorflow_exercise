{
 "cells": [
  {
   "cell_type": "code",
   "execution_count": 1,
   "metadata": {
    "collapsed": true
   },
   "outputs": [],
   "source": [
    "import tensorflow as tf"
   ]
  },
  {
   "cell_type": "code",
   "execution_count": 2,
   "metadata": {},
   "outputs": [
    {
     "name": "stderr",
     "output_type": "stream",
     "text": [
      "C:\\Users\\ausu\\AppData\\Roaming\\Python\\Python36\\site-packages\\scipy\\__init__.py:115: UserWarning: Numpy 1.13.3 or above is required for this version of scipy (detected version 1.13.1)\n",
      "  UserWarning)\n"
     ]
    }
   ],
   "source": [
    "import tensorflow.examples.tutorials.mnist.input_data as input_data"
   ]
  },
  {
   "cell_type": "code",
   "execution_count": 3,
   "metadata": {},
   "outputs": [
    {
     "name": "stdout",
     "output_type": "stream",
     "text": [
      "Extracting MNIST_data\\train-images-idx3-ubyte.gz\n",
      "Extracting MNIST_data\\train-labels-idx1-ubyte.gz\n",
      "Extracting MNIST_data\\t10k-images-idx3-ubyte.gz\n",
      "Extracting MNIST_data\\t10k-labels-idx1-ubyte.gz\n"
     ]
    }
   ],
   "source": [
    "mnist = input_data.read_data_sets(\"MNIST_data\",one_hot=True)"
   ]
  },
  {
   "cell_type": "code",
   "execution_count": 4,
   "metadata": {
    "collapsed": true
   },
   "outputs": [],
   "source": [
    "x = tf.placeholder(tf.float32,[None,784],name = \"X\")"
   ]
  },
  {
   "cell_type": "code",
   "execution_count": 6,
   "metadata": {
    "collapsed": true
   },
   "outputs": [],
   "source": [
    "def fcn_layer(inputs,input_dim,output_dim,activation=None):\n",
    "    W = tf.Variable(tf.truncated_normal([input_dim,output_dim],stddev=0.1))\n",
    "    b = tf.Variable(tf.zeros([output_dim]))\n",
    "    \n",
    "    XWb = tf.matmul(inputs,W) + b\n",
    "    \n",
    "    if activation is None:\n",
    "        outputs = XWb\n",
    "    else:\n",
    "        outputs = activation(XWb)\n",
    "    return outputs"
   ]
  },
  {
   "cell_type": "code",
   "execution_count": 7,
   "metadata": {},
   "outputs": [],
   "source": [
    "H1_NN = 256\n",
    "H2_NN = 64\n",
    "H3_NN = 32\n",
    "\n",
    "h1=fcn_layer(inputs=x,input_dim=784,output_dim=H1_NN,activation=tf.nn.relu)\n",
    "h2=fcn_layer(inputs=h1,input_dim=H1_NN,output_dim=H2_NN,activation=tf.nn.relu)\n",
    "h3=fcn_layer(inputs=h2,input_dim=H2_NN,output_dim=H3_NN,activation=tf.nn.relu)"
   ]
  },
  {
   "cell_type": "code",
   "execution_count": 8,
   "metadata": {},
   "outputs": [],
   "source": [
    "forward=fcn_layer(inputs=h3,input_dim=H3_NN,output_dim=10,activation=None)\n",
    "pred = tf.nn.softmax(forward)"
   ]
  },
  {
   "cell_type": "code",
   "execution_count": 9,
   "metadata": {
    "collapsed": true
   },
   "outputs": [],
   "source": [
    "y = tf.placeholder(tf.float32,[None,10],name = \"Y\")"
   ]
  },
  {
   "cell_type": "code",
   "execution_count": 10,
   "metadata": {},
   "outputs": [],
   "source": [
    "loss_function = tf.reduce_mean(tf.nn.softmax_cross_entropy_with_logits(logits=forward,labels=y))"
   ]
  },
  {
   "cell_type": "code",
   "execution_count": 29,
   "metadata": {
    "collapsed": true
   },
   "outputs": [],
   "source": [
    "train_epochs = 40\n",
    "batch_size = 50\n",
    "total_batch = int(mnist.train.num_examples/batch_size)\n",
    "display_step = 1\n",
    "learning_rate = 0.01"
   ]
  },
  {
   "cell_type": "code",
   "execution_count": 30,
   "metadata": {
    "collapsed": true
   },
   "outputs": [],
   "source": [
    "optimizer = tf.train.AdamOptimizer(learning_rate).minimize(loss_function)"
   ]
  },
  {
   "cell_type": "code",
   "execution_count": 31,
   "metadata": {
    "collapsed": true
   },
   "outputs": [],
   "source": [
    "correct_prediction = tf.equal(tf.argmax(y,1),tf.argmax(pred,1))\n",
    "accuracy = tf.reduce_mean(tf.cast(correct_prediction,tf.float32))"
   ]
  },
  {
   "cell_type": "code",
   "execution_count": 32,
   "metadata": {
    "collapsed": true
   },
   "outputs": [],
   "source": [
    "sess=tf.Session()\n",
    "sess.run(tf.global_variables_initializer())"
   ]
  },
  {
   "cell_type": "code",
   "execution_count": null,
   "metadata": {
    "scrolled": true
   },
   "outputs": [
    {
     "name": "stdout",
     "output_type": "stream",
     "text": [
      "Train Epoch: 01 Loss: 0.150878534 Accuracy= 0.9602\n",
      "Train Epoch: 02 Loss: 0.125649229 Accuracy= 0.9680\n",
      "Train Epoch: 03 Loss: 0.144980684 Accuracy= 0.9688\n",
      "Train Epoch: 04 Loss: 0.142382756 Accuracy= 0.9676\n",
      "Train Epoch: 05 Loss: 0.135708064 Accuracy= 0.9658\n",
      "Train Epoch: 06 Loss: 0.125438854 Accuracy= 0.9722\n",
      "Train Epoch: 07 Loss: 0.138119042 Accuracy= 0.9716\n",
      "Train Epoch: 08 Loss: 0.123275891 Accuracy= 0.9740\n",
      "Train Epoch: 09 Loss: 0.116382800 Accuracy= 0.9760\n",
      "Train Epoch: 10 Loss: 0.159986094 Accuracy= 0.9702\n",
      "Train Epoch: 11 Loss: 0.138769835 Accuracy= 0.9742\n",
      "Train Epoch: 12 Loss: 0.153755248 Accuracy= 0.9724\n",
      "Train Epoch: 13 Loss: 0.177092493 Accuracy= 0.9680\n",
      "Train Epoch: 14 Loss: 0.175281391 Accuracy= 0.9700\n",
      "Train Epoch: 15 Loss: 0.172249362 Accuracy= 0.9718\n",
      "Train Epoch: 16 Loss: 0.155470714 Accuracy= 0.9708\n",
      "Train Epoch: 17 Loss: 0.163768515 Accuracy= 0.9754\n",
      "Train Epoch: 18 Loss: 0.149944574 Accuracy= 0.9746\n",
      "Train Epoch: 19 Loss: 0.154024899 Accuracy= 0.9742\n",
      "Train Epoch: 20 Loss: 0.141604424 Accuracy= 0.9766\n",
      "Train Epoch: 21 Loss: 0.159379542 Accuracy= 0.9752\n",
      "Train Epoch: 22 Loss: 0.153227836 Accuracy= 0.9760\n",
      "Train Epoch: 23 Loss: 0.152272239 Accuracy= 0.9780\n",
      "Train Epoch: 24 Loss: 0.188090965 Accuracy= 0.9774\n",
      "Train Epoch: 25 Loss: 0.164927140 Accuracy= 0.9754\n",
      "Train Epoch: 26 Loss: 0.143144429 Accuracy= 0.9758\n",
      "Train Epoch: 27 Loss: 0.168377057 Accuracy= 0.9748\n",
      "Train Epoch: 28 Loss: 0.163110510 Accuracy= 0.9772\n",
      "Train Epoch: 29 Loss: 0.222763598 Accuracy= 0.9778\n",
      "Train Epoch: 30 Loss: 0.177501395 Accuracy= 0.9756\n"
     ]
    }
   ],
   "source": [
    "from time import time\n",
    "startTime=time()\n",
    "\n",
    "for epoch in range(train_epochs):\n",
    "    for batch in range(total_batch):\n",
    "        xs,ys=mnist.train.next_batch(batch_size)\n",
    "        sess.run(optimizer,feed_dict={x:xs,y:ys})\n",
    "        \n",
    "        #summary_str = sess.run(merged_summary_op,feed_dict = {x:xs,y:ys})\n",
    "        #writer.add_summary(summary_str,epoch)\n",
    "        \n",
    "    loss,acc=sess.run([loss_function,accuracy],feed_dict={x:mnist.validation.images,y:mnist.validation.labels})\n",
    "    if (epoch+1)%display_step == 0:\n",
    "        print(\"Train Epoch:\",'%02d' % (epoch+1),\"Loss:\",\"{:.9f}\".format(loss),\"Accuracy=\",\"{:.4f}\".format(acc))\n",
    "\n",
    "duration = time()-startTime\n",
    "print(\"Train Finished\")"
   ]
  }
 ],
 "metadata": {
  "kernelspec": {
   "display_name": "Python 3",
   "language": "python",
   "name": "python3"
  },
  "language_info": {
   "codemirror_mode": {
    "name": "ipython",
    "version": 3
   },
   "file_extension": ".py",
   "mimetype": "text/x-python",
   "name": "python",
   "nbconvert_exporter": "python",
   "pygments_lexer": "ipython3",
   "version": "3.6.2"
  }
 },
 "nbformat": 4,
 "nbformat_minor": 2
}
