{
 "cells": [
  {
   "cell_type": "code",
   "execution_count": 1,
   "metadata": {
    "collapsed": true
   },
   "outputs": [],
   "source": [
    "import tensorflow as tf"
   ]
  },
  {
   "cell_type": "code",
   "execution_count": 2,
   "metadata": {},
   "outputs": [
    {
     "name": "stderr",
     "output_type": "stream",
     "text": [
      "C:\\Users\\ausu\\AppData\\Roaming\\Python\\Python36\\site-packages\\scipy\\__init__.py:115: UserWarning: Numpy 1.13.3 or above is required for this version of scipy (detected version 1.13.1)\n",
      "  UserWarning)\n"
     ]
    }
   ],
   "source": [
    "import tensorflow.examples.tutorials.mnist.input_data as input_data"
   ]
  },
  {
   "cell_type": "code",
   "execution_count": 3,
   "metadata": {},
   "outputs": [
    {
     "name": "stdout",
     "output_type": "stream",
     "text": [
      "Extracting MNIST_data\\train-images-idx3-ubyte.gz\n",
      "Extracting MNIST_data\\train-labels-idx1-ubyte.gz\n",
      "Extracting MNIST_data\\t10k-images-idx3-ubyte.gz\n",
      "Extracting MNIST_data\\t10k-labels-idx1-ubyte.gz\n"
     ]
    }
   ],
   "source": [
    "mnist = input_data.read_data_sets(\"MNIST_data\",one_hot=True)"
   ]
  },
  {
   "cell_type": "code",
   "execution_count": 4,
   "metadata": {
    "collapsed": true
   },
   "outputs": [],
   "source": [
    "import matplotlib.pyplot as plt\n",
    "import numpy as np\n",
    "def plot_images_labels_prediction(images,labels,prediction,index,num=10):\n",
    "    fig = plt.gcf()\n",
    "    fig.set_size_inches(10,12)\n",
    "    if num>25:\n",
    "        num = 25\n",
    "    for i in range(0,num):\n",
    "        ax = plt.subplot(5,5,i+1)\n",
    "        ax.imshow(np.reshape(images[index],(28,28)),cmap='binary')\n",
    "        title = \"label=\"+str(np.argmax(labels[index]))\n",
    "        if len(prediction)>0:\n",
    "            title += \",predict=\"+str(prediction[index])\n",
    "        ax.set_title(title,fontsize=10)\n",
    "        ax.set_xticks([])\n",
    "        ax.set_yticks([])\n",
    "        index = index + 1\n",
    "    plt.show()"
   ]
  },
  {
   "cell_type": "code",
   "execution_count": 5,
   "metadata": {
    "collapsed": true
   },
   "outputs": [],
   "source": [
    "batch_images_xs,batch_labels_ys = mnist.train.next_batch(batch_size = 10)"
   ]
  },
  {
   "cell_type": "code",
   "execution_count": 6,
   "metadata": {
    "collapsed": true
   },
   "outputs": [],
   "source": [
    "x = tf.placeholder(tf.float32,[None,784],name = \"X\")\n",
    "y = tf.placeholder(tf.float32,[None,10],name = \"Y\")"
   ]
  },
  {
   "cell_type": "code",
   "execution_count": 7,
   "metadata": {
    "collapsed": true
   },
   "outputs": [],
   "source": [
    "W = tf.Variable(tf.random_normal([784,10]),name=\"W\")\n",
    "b = tf.Variable(tf.zeros([10]),name=\"b\")"
   ]
  },
  {
   "cell_type": "code",
   "execution_count": 8,
   "metadata": {
    "collapsed": true
   },
   "outputs": [],
   "source": [
    "forward=tf.matmul(x,W) + b"
   ]
  },
  {
   "cell_type": "code",
   "execution_count": 9,
   "metadata": {
    "collapsed": true
   },
   "outputs": [],
   "source": [
    "pred = tf.nn.softmax(forward)"
   ]
  },
  {
   "cell_type": "code",
   "execution_count": 10,
   "metadata": {
    "collapsed": true
   },
   "outputs": [],
   "source": [
    "train_epochs = 70\n",
    "batch_size = 100\n",
    "total_batch = int(mnist.train.num_examples/batch_size)\n",
    "display_step = 1\n",
    "learning_rate = 0.04"
   ]
  },
  {
   "cell_type": "code",
   "execution_count": 11,
   "metadata": {
    "collapsed": true
   },
   "outputs": [],
   "source": [
    "loss_function = tf.reduce_mean(-tf.reduce_sum(y * tf.log(pred),reduction_indices=1))"
   ]
  },
  {
   "cell_type": "code",
   "execution_count": 12,
   "metadata": {
    "collapsed": true
   },
   "outputs": [],
   "source": [
    "optimizer = tf.train.GradientDescentOptimizer(learning_rate).minimize(loss_function)"
   ]
  },
  {
   "cell_type": "code",
   "execution_count": 13,
   "metadata": {
    "collapsed": true
   },
   "outputs": [],
   "source": [
    "correct_prediction = tf.equal(tf.argmax(pred,1),tf.argmax(y,1))"
   ]
  },
  {
   "cell_type": "code",
   "execution_count": 14,
   "metadata": {
    "collapsed": true
   },
   "outputs": [],
   "source": [
    "accuracy = tf.reduce_mean(tf.cast(correct_prediction,tf.float32))"
   ]
  },
  {
   "cell_type": "code",
   "execution_count": 15,
   "metadata": {
    "collapsed": true
   },
   "outputs": [],
   "source": [
    "sess = tf.Session()\n",
    "init = tf.global_variables_initializer()\n",
    "sess.run(init)"
   ]
  },
  {
   "cell_type": "code",
   "execution_count": 16,
   "metadata": {},
   "outputs": [
    {
     "name": "stdout",
     "output_type": "stream",
     "text": [
      "Train Epoch: 01 Loss: 2.289036036 Accuracy= 0.6102\n",
      "Train Epoch: 02 Loss: 1.454814553 Accuracy= 0.7242\n",
      "Train Epoch: 03 Loss: 1.158160329 Accuracy= 0.7722\n",
      "Train Epoch: 04 Loss: 1.003899455 Accuracy= 0.8000\n",
      "Train Epoch: 05 Loss: 0.906601548 Accuracy= 0.8122\n",
      "Train Epoch: 06 Loss: 0.837669134 Accuracy= 0.8252\n",
      "Train Epoch: 07 Loss: 0.786112726 Accuracy= 0.8354\n",
      "Train Epoch: 08 Loss: 0.744867146 Accuracy= 0.8410\n",
      "Train Epoch: 09 Loss: 0.712691963 Accuracy= 0.8492\n",
      "Train Epoch: 10 Loss: 0.684173465 Accuracy= 0.8546\n",
      "Train Epoch: 11 Loss: 0.660525382 Accuracy= 0.8562\n",
      "Train Epoch: 12 Loss: 0.640213072 Accuracy= 0.8618\n",
      "Train Epoch: 13 Loss: 0.622812808 Accuracy= 0.8654\n",
      "Train Epoch: 14 Loss: 0.606356859 Accuracy= 0.8686\n",
      "Train Epoch: 15 Loss: 0.592960298 Accuracy= 0.8680\n",
      "Train Epoch: 16 Loss: 0.579982400 Accuracy= 0.8718\n",
      "Train Epoch: 17 Loss: 0.568865836 Accuracy= 0.8734\n",
      "Train Epoch: 18 Loss: 0.560397923 Accuracy= 0.8732\n",
      "Train Epoch: 19 Loss: 0.547975063 Accuracy= 0.8762\n",
      "Train Epoch: 20 Loss: 0.539494038 Accuracy= 0.8760\n",
      "Train Epoch: 21 Loss: 0.530481875 Accuracy= 0.8770\n",
      "Train Epoch: 22 Loss: 0.522399247 Accuracy= 0.8774\n",
      "Train Epoch: 23 Loss: 0.515555024 Accuracy= 0.8792\n",
      "Train Epoch: 24 Loss: 0.508532822 Accuracy= 0.8812\n",
      "Train Epoch: 25 Loss: 0.501968563 Accuracy= 0.8834\n",
      "Train Epoch: 26 Loss: 0.496296436 Accuracy= 0.8822\n",
      "Train Epoch: 27 Loss: 0.491231441 Accuracy= 0.8834\n",
      "Train Epoch: 28 Loss: 0.485621691 Accuracy= 0.8840\n",
      "Train Epoch: 29 Loss: 0.479479939 Accuracy= 0.8860\n",
      "Train Epoch: 30 Loss: 0.475613564 Accuracy= 0.8878\n",
      "Train Epoch: 31 Loss: 0.469935983 Accuracy= 0.8874\n",
      "Train Epoch: 32 Loss: 0.464939505 Accuracy= 0.8886\n",
      "Train Epoch: 33 Loss: 0.461793959 Accuracy= 0.8880\n",
      "Train Epoch: 34 Loss: 0.457077205 Accuracy= 0.8886\n",
      "Train Epoch: 35 Loss: 0.454175889 Accuracy= 0.8880\n",
      "Train Epoch: 36 Loss: 0.449862748 Accuracy= 0.8900\n",
      "Train Epoch: 37 Loss: 0.446248919 Accuracy= 0.8920\n",
      "Train Epoch: 38 Loss: 0.443579495 Accuracy= 0.8924\n",
      "Train Epoch: 39 Loss: 0.439908803 Accuracy= 0.8922\n",
      "Train Epoch: 40 Loss: 0.436802775 Accuracy= 0.8938\n",
      "Train Epoch: 41 Loss: 0.434760928 Accuracy= 0.8930\n",
      "Train Epoch: 42 Loss: 0.430900246 Accuracy= 0.8938\n",
      "Train Epoch: 43 Loss: 0.428455651 Accuracy= 0.8940\n",
      "Train Epoch: 44 Loss: 0.425751328 Accuracy= 0.8938\n",
      "Train Epoch: 45 Loss: 0.423103213 Accuracy= 0.8942\n",
      "Train Epoch: 46 Loss: 0.420216113 Accuracy= 0.8948\n",
      "Train Epoch: 47 Loss: 0.417877287 Accuracy= 0.8964\n",
      "Train Epoch: 48 Loss: 0.415110022 Accuracy= 0.8956\n",
      "Train Epoch: 49 Loss: 0.412912101 Accuracy= 0.8970\n",
      "Train Epoch: 50 Loss: 0.410648137 Accuracy= 0.8976\n",
      "Train Epoch: 51 Loss: 0.409795105 Accuracy= 0.8964\n",
      "Train Epoch: 52 Loss: 0.406849831 Accuracy= 0.8982\n",
      "Train Epoch: 53 Loss: 0.405364662 Accuracy= 0.8988\n",
      "Train Epoch: 54 Loss: 0.403978050 Accuracy= 0.8986\n",
      "Train Epoch: 55 Loss: 0.402028620 Accuracy= 0.8992\n",
      "Train Epoch: 56 Loss: 0.399191916 Accuracy= 0.8996\n",
      "Train Epoch: 57 Loss: 0.397200674 Accuracy= 0.9002\n",
      "Train Epoch: 58 Loss: 0.394976377 Accuracy= 0.9002\n",
      "Train Epoch: 59 Loss: 0.393688172 Accuracy= 0.9010\n",
      "Train Epoch: 60 Loss: 0.392239064 Accuracy= 0.9018\n",
      "Train Epoch: 61 Loss: 0.390870959 Accuracy= 0.9012\n",
      "Train Epoch: 62 Loss: 0.389917821 Accuracy= 0.9022\n",
      "Train Epoch: 63 Loss: 0.387920618 Accuracy= 0.9020\n",
      "Train Epoch: 64 Loss: 0.386972457 Accuracy= 0.9018\n",
      "Train Epoch: 65 Loss: 0.385288000 Accuracy= 0.9038\n",
      "Train Epoch: 66 Loss: 0.383275717 Accuracy= 0.9024\n",
      "Train Epoch: 67 Loss: 0.382349551 Accuracy= 0.9032\n",
      "Train Epoch: 68 Loss: 0.381038994 Accuracy= 0.9040\n",
      "Train Epoch: 69 Loss: 0.379298449 Accuracy= 0.9034\n",
      "Train Epoch: 70 Loss: 0.378139883 Accuracy= 0.9040\n",
      "Train Finished\n"
     ]
    }
   ],
   "source": [
    "for epoch in range(train_epochs):\n",
    "    for batch in range(total_batch):\n",
    "        xs,ys=mnist.train.next_batch(batch_size)\n",
    "        sess.run(optimizer,feed_dict={x:xs,y:ys})\n",
    "        \n",
    "    loss,acc=sess.run([loss_function,accuracy],feed_dict={x:mnist.validation.images,y:mnist.validation.labels})\n",
    "    if (epoch+1)%display_step == 0:\n",
    "        print(\"Train Epoch:\",'%02d' % (epoch+1),\"Loss:\",\"{:.9f}\".format(loss),\"Accuracy=\",\"{:.4f}\".format(acc))\n",
    "print(\"Train Finished\")"
   ]
  },
  {
   "cell_type": "code",
   "execution_count": 17,
   "metadata": {},
   "outputs": [
    {
     "name": "stdout",
     "output_type": "stream",
     "text": [
      "Test Accuracy: 0.8985\n"
     ]
    }
   ],
   "source": [
    "accu_test = sess.run(accuracy,feed_dict={x:mnist.test.images,y:mnist.test.labels})\n",
    "print(\"Test Accuracy:\",accu_test)"
   ]
  },
  {
   "cell_type": "code",
   "execution_count": null,
   "metadata": {},
   "outputs": [
    {
     "name": "stdout",
     "output_type": "stream",
     "text": [
      "Test Accuracy: 0.904\n"
     ]
    }
   ],
   "source": [
    "accu_validation = sess.run(accuracy,feed_dict={x:mnist.validation.images,y:mnist.validation.labels})\n",
    "print(\"Test Accuracy:\",accu_validation)"
   ]
  },
  {
   "cell_type": "code",
   "execution_count": null,
   "metadata": {},
   "outputs": [],
   "source": [
    "accu_train = sess.run(accuracy,feed_dict={x:mnist.train.images,y:mnist.train.labels})\n",
    "print(\"Test Accuracy:\",accu_train)"
   ]
  },
  {
   "cell_type": "code",
   "execution_count": null,
   "metadata": {
    "collapsed": true,
    "scrolled": true
   },
   "outputs": [],
   "source": [
    "prediction_result = sess.run(tf.argmax(pred,1),feed_dict={x:mnist.test.images})"
   ]
  },
  {
   "cell_type": "code",
   "execution_count": null,
   "metadata": {},
   "outputs": [],
   "source": [
    "prediction_result[0:10]"
   ]
  },
  {
   "cell_type": "code",
   "execution_count": null,
   "metadata": {},
   "outputs": [],
   "source": [
    "plot_images_labels_prediction(mnist.test.images,\n",
    "                             mnist.test.labels,\n",
    "                             prediction_result,10,25)"
   ]
  }
 ],
 "metadata": {
  "kernelspec": {
   "display_name": "Python 3",
   "language": "python",
   "name": "python3"
  },
  "language_info": {
   "codemirror_mode": {
    "name": "ipython",
    "version": 3
   },
   "file_extension": ".py",
   "mimetype": "text/x-python",
   "name": "python",
   "nbconvert_exporter": "python",
   "pygments_lexer": "ipython3",
   "version": "3.6.2"
  }
 },
 "nbformat": 4,
 "nbformat_minor": 2
}
